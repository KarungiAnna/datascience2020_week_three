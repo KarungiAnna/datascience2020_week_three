{
 "cells": [
  {
   "cell_type": "code",
   "execution_count": 9,
   "metadata": {},
   "outputs": [],
   "source": [
    "import numpy as np"
   ]
  },
  {
   "cell_type": "markdown",
   "metadata": {},
   "source": [
    "## 1.compute the mean, standard deviation, and variance of the given array along the second row using numpy"
   ]
  },
  {
   "cell_type": "code",
   "execution_count": 22,
   "metadata": {},
   "outputs": [],
   "source": [
    "data = np.array([[11, 22],[33, 44],[55, 66]])"
   ]
  },
  {
   "cell_type": "code",
   "execution_count": 2,
   "metadata": {},
   "outputs": [
    {
     "name": "stdout",
     "output_type": "stream",
     "text": [
      "[33 44]\n",
      "\n",
      "Mean:  38.5\n",
      "\n",
      "std:  5.5\n",
      "\n",
      "variance:  30.25\n"
     ]
    }
   ],
   "source": [
    "import numpy as np\n",
    "# Original array\n",
    "data = np.array([[11, 22],[33, 44],[55, 66]])\n",
    "new_array = data[1,:]\n",
    "print(new_array)\n",
    "r1 = np.mean(data) \n",
    "print(\"\\nMean: \", r1) \n",
    "  \n",
    "r2 = np.std(new_array) \n",
    "print(\"\\nstd: \", r2) \n",
    "  \n",
    "r3 = np.var(new_array) \n",
    "print(\"\\nvariance: \", r3) "
   ]
  },
  {
   "cell_type": "markdown",
   "metadata": {},
   "source": [
    "### 2.reshape the above array to a one dimension array(one column)"
   ]
  },
  {
   "cell_type": "code",
   "execution_count": 1,
   "metadata": {},
   "outputs": [
    {
     "name": "stdout",
     "output_type": "stream",
     "text": [
      "[[11]\n",
      " [22]\n",
      " [33]\n",
      " [44]\n",
      " [55]\n",
      " [66]]\n"
     ]
    }
   ],
   "source": [
    "import numpy as np\n",
    "data = np.array([[11, 22],[33, 44],[55, 66]])\n",
    "data = data.reshape((6,1))\n",
    "print(data)"
   ]
  },
  {
   "cell_type": "markdown",
   "metadata": {},
   "source": [
    "## Use the data in the cell below to complete the following exercises"
   ]
  },
  {
   "cell_type": "code",
   "execution_count": 17,
   "metadata": {},
   "outputs": [
    {
     "data": {
      "text/plain": [
       "array([[ 80842, 333008, 202553, 140037,  81969],\n",
       "       [ 63857,  42105, 261540, 481981, 176739],\n",
       "       [489984, 326386, 110795, 394863,  25024],\n",
       "       [ 38317,  49982, 408830, 485118,  16119],\n",
       "       [407675, 231729, 265455, 109413, 103399],\n",
       "       [174677, 343356, 301717, 224120, 401101],\n",
       "       [140473, 254634, 112262,  25063, 108262],\n",
       "       [375059, 406983, 208947, 115641, 296685],\n",
       "       [444899, 129585, 171318, 313094, 425041],\n",
       "       [188411, 335140, 141681,  59641, 211420],\n",
       "       [287650,   8973, 477425, 382803, 465168],\n",
       "       [  3975,  32213, 160603, 275485, 388234],\n",
       "       [246225,  56174, 244097,   9350, 496966],\n",
       "       [225516, 273338,  73335, 283013, 212813],\n",
       "       [ 38175, 282399, 318413, 337639, 379802],\n",
       "       [198049, 101115, 419547, 260219, 325793],\n",
       "       [148593, 425024, 348570, 117968, 107007],\n",
       "       [ 52547, 180346, 178760, 305186, 262153],\n",
       "       [ 11835, 449971, 494184, 472031, 353049],\n",
       "       [476442,  35455, 191553, 384154,  29917]])"
      ]
     },
     "execution_count": 17,
     "metadata": {},
     "output_type": "execute_result"
    }
   ],
   "source": [
    "#lets create an array to work with\n",
    "np.random.seed(21) # This guarantees the code will generate the same set of random numbers whenever executed\n",
    "random_integers = np.random.randint(1,high=500000, size=(20, 5))\n",
    "random_integers"
   ]
  },
  {
   "cell_type": "markdown",
   "metadata": {},
   "source": [
    "### 3. What is the average value of the second column (to two decimal places)"
   ]
  },
  {
   "cell_type": "code",
   "execution_count": 3,
   "metadata": {},
   "outputs": [
    {
     "name": "stdout",
     "output_type": "stream",
     "text": [
      "235261.82\n"
     ]
    }
   ],
   "source": [
    "import numpy as np\n",
    "np.random.seed(21)\n",
    "random_integers = np.random.randint(1,high=500000, size=(20, 5))\n",
    "#getting the second column\n",
    "random_integers[:,1]\n",
    "#average value of the second column\n",
    "print(np.mean(random_integers))"
   ]
  },
  {
   "cell_type": "markdown",
   "metadata": {},
   "source": [
    "### 4. What is the sum of the first 5 rows of the third and fourth columns?"
   ]
  },
  {
   "cell_type": "code",
   "execution_count": 1,
   "metadata": {},
   "outputs": [
    {
     "name": "stdout",
     "output_type": "stream",
     "text": [
      "[[202553 140037]\n",
      " [261540 481981]\n",
      " [110795 394863]\n",
      " [408830 485118]\n",
      " [265455 109413]]\n",
      "Sum of all array elements:  2860585\n"
     ]
    }
   ],
   "source": [
    "#Write your code here\n",
    "import numpy as np\n",
    "np.random.seed(21)\n",
    "random_integers = np.random.randint(1,high=500000, size=(20, 5))\n",
    "new_array = random_integers[:5, [2,3]]\n",
    "print(new_array)\n",
    "print(\"Sum of all array elements: \", np.sum(new_array))\n"
   ]
  },
  {
   "cell_type": "markdown",
   "metadata": {},
   "source": [
    "### 5. reverse the columns of the array"
   ]
  },
  {
   "cell_type": "code",
   "execution_count": 16,
   "metadata": {},
   "outputs": [
    {
     "name": "stdout",
     "output_type": "stream",
     "text": [
      "Reversed Array : \n",
      "[[ 81969 140037 202553 333008  80842]\n",
      " [176739 481981 261540  42105  63857]\n",
      " [ 25024 394863 110795 326386 489984]\n",
      " [ 16119 485118 408830  49982  38317]\n",
      " [103399 109413 265455 231729 407675]\n",
      " [401101 224120 301717 343356 174677]\n",
      " [108262  25063 112262 254634 140473]\n",
      " [296685 115641 208947 406983 375059]\n",
      " [425041 313094 171318 129585 444899]\n",
      " [211420  59641 141681 335140 188411]\n",
      " [465168 382803 477425   8973 287650]\n",
      " [388234 275485 160603  32213   3975]\n",
      " [496966   9350 244097  56174 246225]\n",
      " [212813 283013  73335 273338 225516]\n",
      " [379802 337639 318413 282399  38175]\n",
      " [325793 260219 419547 101115 198049]\n",
      " [107007 117968 348570 425024 148593]\n",
      " [262153 305186 178760 180346  52547]\n",
      " [353049 472031 494184 449971  11835]\n",
      " [ 29917 384154 191553  35455 476442]]\n"
     ]
    }
   ],
   "source": [
    "import numpy as np\n",
    "np.random.seed(21)\n",
    "random_integers = np.random.randint(1,high=500000, size=(20, 5))\n",
    "#reverse the columns of the array\n",
    "reversedArr = np.flip(random_integers, axis=1)\n",
    "print('Reversed Array : ')\n",
    "print(reversedArr)"
   ]
  },
  {
   "cell_type": "markdown",
   "metadata": {},
   "source": [
    "### 6. Get the transpose of the array\n"
   ]
  },
  {
   "cell_type": "code",
   "execution_count": 20,
   "metadata": {},
   "outputs": [
    {
     "name": "stdout",
     "output_type": "stream",
     "text": [
      "[[ 80842  63857 489984  38317 407675 174677 140473 375059 444899 188411\n",
      "  287650   3975 246225 225516  38175 198049 148593  52547  11835 476442]\n",
      " [333008  42105 326386  49982 231729 343356 254634 406983 129585 335140\n",
      "    8973  32213  56174 273338 282399 101115 425024 180346 449971  35455]\n",
      " [202553 261540 110795 408830 265455 301717 112262 208947 171318 141681\n",
      "  477425 160603 244097  73335 318413 419547 348570 178760 494184 191553]\n",
      " [140037 481981 394863 485118 109413 224120  25063 115641 313094  59641\n",
      "  382803 275485   9350 283013 337639 260219 117968 305186 472031 384154]\n",
      " [ 81969 176739  25024  16119 103399 401101 108262 296685 425041 211420\n",
      "  465168 388234 496966 212813 379802 325793 107007 262153 353049  29917]]\n"
     ]
    }
   ],
   "source": [
    "import numpy as np\n",
    "np.random.seed(21)\n",
    "random_integers = np.random.randint(1,high=500000, size=(20, 5))\n",
    "# how to get transpose of the array\n",
    "print(random_integers.transpose())\n",
    "\n"
   ]
  },
  {
   "cell_type": "markdown",
   "metadata": {},
   "source": [
    "##                                                      Pandas"
   ]
  },
  {
   "cell_type": "markdown",
   "metadata": {},
   "source": [
    "### 1. Convert the above array (random integers) to a dataframe with column names; one, two, three, four, five"
   ]
  },
  {
   "cell_type": "code",
   "execution_count": 3,
   "metadata": {},
   "outputs": [
    {
     "data": {
      "text/html": [
       "<div>\n",
       "<style scoped>\n",
       "    .dataframe tbody tr th:only-of-type {\n",
       "        vertical-align: middle;\n",
       "    }\n",
       "\n",
       "    .dataframe tbody tr th {\n",
       "        vertical-align: top;\n",
       "    }\n",
       "\n",
       "    .dataframe thead th {\n",
       "        text-align: right;\n",
       "    }\n",
       "</style>\n",
       "<table border=\"1\" class=\"dataframe\">\n",
       "  <thead>\n",
       "    <tr style=\"text-align: right;\">\n",
       "      <th></th>\n",
       "      <th>one</th>\n",
       "      <th>two</th>\n",
       "      <th>three</th>\n",
       "      <th>four</th>\n",
       "      <th>five</th>\n",
       "    </tr>\n",
       "  </thead>\n",
       "  <tbody>\n",
       "    <tr>\n",
       "      <th>count</th>\n",
       "      <td>20.000000</td>\n",
       "      <td>20.000000</td>\n",
       "      <td>20.000000</td>\n",
       "      <td>20.000000</td>\n",
       "      <td>20.000000</td>\n",
       "    </tr>\n",
       "    <tr>\n",
       "      <th>mean</th>\n",
       "      <td>204660.050000</td>\n",
       "      <td>214895.800000</td>\n",
       "      <td>254579.250000</td>\n",
       "      <td>258840.950000</td>\n",
       "      <td>243333.050000</td>\n",
       "    </tr>\n",
       "    <tr>\n",
       "      <th>std</th>\n",
       "      <td>160901.903689</td>\n",
       "      <td>147813.419501</td>\n",
       "      <td>123604.500639</td>\n",
       "      <td>152653.178515</td>\n",
       "      <td>156738.446671</td>\n",
       "    </tr>\n",
       "    <tr>\n",
       "      <th>min</th>\n",
       "      <td>3975.000000</td>\n",
       "      <td>8973.000000</td>\n",
       "      <td>73335.000000</td>\n",
       "      <td>9350.000000</td>\n",
       "      <td>16119.000000</td>\n",
       "    </tr>\n",
       "    <tr>\n",
       "      <th>25%</th>\n",
       "      <td>61029.500000</td>\n",
       "      <td>54626.000000</td>\n",
       "      <td>168639.250000</td>\n",
       "      <td>117386.250000</td>\n",
       "      <td>106105.000000</td>\n",
       "    </tr>\n",
       "    <tr>\n",
       "      <th>50%</th>\n",
       "      <td>181544.000000</td>\n",
       "      <td>243181.500000</td>\n",
       "      <td>226522.000000</td>\n",
       "      <td>279249.000000</td>\n",
       "      <td>237483.000000</td>\n",
       "    </tr>\n",
       "    <tr>\n",
       "      <th>75%</th>\n",
       "      <td>309502.250000</td>\n",
       "      <td>333541.000000</td>\n",
       "      <td>325952.250000</td>\n",
       "      <td>383140.750000</td>\n",
       "      <td>381910.000000</td>\n",
       "    </tr>\n",
       "    <tr>\n",
       "      <th>max</th>\n",
       "      <td>489984.000000</td>\n",
       "      <td>449971.000000</td>\n",
       "      <td>494184.000000</td>\n",
       "      <td>485118.000000</td>\n",
       "      <td>496966.000000</td>\n",
       "    </tr>\n",
       "  </tbody>\n",
       "</table>\n",
       "</div>"
      ],
      "text/plain": [
       "                 one            two          three           four  \\\n",
       "count      20.000000      20.000000      20.000000      20.000000   \n",
       "mean   204660.050000  214895.800000  254579.250000  258840.950000   \n",
       "std    160901.903689  147813.419501  123604.500639  152653.178515   \n",
       "min      3975.000000    8973.000000   73335.000000    9350.000000   \n",
       "25%     61029.500000   54626.000000  168639.250000  117386.250000   \n",
       "50%    181544.000000  243181.500000  226522.000000  279249.000000   \n",
       "75%    309502.250000  333541.000000  325952.250000  383140.750000   \n",
       "max    489984.000000  449971.000000  494184.000000  485118.000000   \n",
       "\n",
       "                five  \n",
       "count      20.000000  \n",
       "mean   243333.050000  \n",
       "std    156738.446671  \n",
       "min     16119.000000  \n",
       "25%    106105.000000  \n",
       "50%    237483.000000  \n",
       "75%    381910.000000  \n",
       "max    496966.000000  "
      ]
     },
     "execution_count": 3,
     "metadata": {},
     "output_type": "execute_result"
    }
   ],
   "source": [
    "import numpy as np\n",
    "import pandas as pd\n",
    "np.random.seed(21)\n",
    "random_integers = np.random.randint(1,high=500000, size=(20, 5))\n",
    "#converting array to a dataframe\n",
    "df = pd.DataFrame(data=random_integers, columns=[\"one\", \"two\", \"three\", \"four\", \"five\"])\n",
    "df.describe()\n",
    "\n"
   ]
  },
  {
   "cell_type": "markdown",
   "metadata": {},
   "source": [
    "### 2. Show the summary statistics of the variables"
   ]
  },
  {
   "cell_type": "markdown",
   "metadata": {},
   "source": [
    "### 3. Create a correlation matrix of the the five variables"
   ]
  },
  {
   "cell_type": "code",
   "execution_count": 4,
   "metadata": {},
   "outputs": [
    {
     "name": "stdout",
     "output_type": "stream",
     "text": [
      "            one       two     three      four      five\n",
      "one    1.000000 -0.045740 -0.298734 -0.129010 -0.135129\n",
      "two   -0.045740  1.000000 -0.073682 -0.310364 -0.160247\n",
      "three -0.298734 -0.073682  1.000000  0.372592  0.276976\n",
      "four  -0.129010 -0.310364  0.372592  1.000000 -0.060995\n",
      "five  -0.135129 -0.160247  0.276976 -0.060995  1.000000\n"
     ]
    }
   ],
   "source": [
    "import numpy as np\n",
    "import pandas as pd\n",
    "np.random.seed(21)\n",
    "random_integers = np.random.randint(1,high=500000, size=(20, 5))\n",
    "df = pd.DataFrame(data=random_integers, columns=[\"one\", \"two\", \"three\", \"four\", \"five\"])\n",
    "#correlation matrix\n",
    "corrMatrix = df.corr()\n",
    "print (corrMatrix)"
   ]
  },
  {
   "cell_type": "markdown",
   "metadata": {},
   "source": [
    "### 4. Read the titanic dataset into a dataframe"
   ]
  },
  {
   "cell_type": "code",
   "execution_count": 33,
   "metadata": {},
   "outputs": [
    {
     "data": {
      "text/html": [
       "<div>\n",
       "<style scoped>\n",
       "    .dataframe tbody tr th:only-of-type {\n",
       "        vertical-align: middle;\n",
       "    }\n",
       "\n",
       "    .dataframe tbody tr th {\n",
       "        vertical-align: top;\n",
       "    }\n",
       "\n",
       "    .dataframe thead th {\n",
       "        text-align: right;\n",
       "    }\n",
       "</style>\n",
       "<table border=\"1\" class=\"dataframe\">\n",
       "  <thead>\n",
       "    <tr style=\"text-align: right;\">\n",
       "      <th></th>\n",
       "      <th>pclass</th>\n",
       "      <th>survived</th>\n",
       "      <th>name</th>\n",
       "      <th>sex</th>\n",
       "      <th>age</th>\n",
       "      <th>sibsp</th>\n",
       "      <th>parch</th>\n",
       "      <th>ticket</th>\n",
       "      <th>fare</th>\n",
       "      <th>cabin</th>\n",
       "      <th>embarked</th>\n",
       "      <th>boat</th>\n",
       "      <th>body</th>\n",
       "      <th>home.dest</th>\n",
       "    </tr>\n",
       "  </thead>\n",
       "  <tbody>\n",
       "    <tr>\n",
       "      <th>0</th>\n",
       "      <td>1</td>\n",
       "      <td>1</td>\n",
       "      <td>Allen, Miss. Elisabeth Walton</td>\n",
       "      <td>female</td>\n",
       "      <td>29.00</td>\n",
       "      <td>0</td>\n",
       "      <td>0</td>\n",
       "      <td>24160</td>\n",
       "      <td>211.3375</td>\n",
       "      <td>B5</td>\n",
       "      <td>S</td>\n",
       "      <td>2</td>\n",
       "      <td>NaN</td>\n",
       "      <td>St Louis, MO</td>\n",
       "    </tr>\n",
       "    <tr>\n",
       "      <th>1</th>\n",
       "      <td>1</td>\n",
       "      <td>1</td>\n",
       "      <td>Allison, Master. Hudson Trevor</td>\n",
       "      <td>male</td>\n",
       "      <td>0.92</td>\n",
       "      <td>1</td>\n",
       "      <td>2</td>\n",
       "      <td>113781</td>\n",
       "      <td>151.5500</td>\n",
       "      <td>C22 C26</td>\n",
       "      <td>S</td>\n",
       "      <td>11</td>\n",
       "      <td>NaN</td>\n",
       "      <td>Montreal, PQ / Chesterville, ON</td>\n",
       "    </tr>\n",
       "    <tr>\n",
       "      <th>2</th>\n",
       "      <td>1</td>\n",
       "      <td>0</td>\n",
       "      <td>Allison, Miss. Helen Loraine</td>\n",
       "      <td>female</td>\n",
       "      <td>2.00</td>\n",
       "      <td>1</td>\n",
       "      <td>2</td>\n",
       "      <td>113781</td>\n",
       "      <td>151.5500</td>\n",
       "      <td>C22 C26</td>\n",
       "      <td>S</td>\n",
       "      <td>NaN</td>\n",
       "      <td>NaN</td>\n",
       "      <td>Montreal, PQ / Chesterville, ON</td>\n",
       "    </tr>\n",
       "    <tr>\n",
       "      <th>3</th>\n",
       "      <td>1</td>\n",
       "      <td>0</td>\n",
       "      <td>Allison, Mr. Hudson Joshua Creighton</td>\n",
       "      <td>male</td>\n",
       "      <td>30.00</td>\n",
       "      <td>1</td>\n",
       "      <td>2</td>\n",
       "      <td>113781</td>\n",
       "      <td>151.5500</td>\n",
       "      <td>C22 C26</td>\n",
       "      <td>S</td>\n",
       "      <td>NaN</td>\n",
       "      <td>135.0</td>\n",
       "      <td>Montreal, PQ / Chesterville, ON</td>\n",
       "    </tr>\n",
       "    <tr>\n",
       "      <th>4</th>\n",
       "      <td>1</td>\n",
       "      <td>0</td>\n",
       "      <td>Allison, Mrs. Hudson J C (Bessie Waldo Daniels)</td>\n",
       "      <td>female</td>\n",
       "      <td>25.00</td>\n",
       "      <td>1</td>\n",
       "      <td>2</td>\n",
       "      <td>113781</td>\n",
       "      <td>151.5500</td>\n",
       "      <td>C22 C26</td>\n",
       "      <td>S</td>\n",
       "      <td>NaN</td>\n",
       "      <td>NaN</td>\n",
       "      <td>Montreal, PQ / Chesterville, ON</td>\n",
       "    </tr>\n",
       "  </tbody>\n",
       "</table>\n",
       "</div>"
      ],
      "text/plain": [
       "   pclass  survived                                             name     sex  \\\n",
       "0       1         1                    Allen, Miss. Elisabeth Walton  female   \n",
       "1       1         1                   Allison, Master. Hudson Trevor    male   \n",
       "2       1         0                     Allison, Miss. Helen Loraine  female   \n",
       "3       1         0             Allison, Mr. Hudson Joshua Creighton    male   \n",
       "4       1         0  Allison, Mrs. Hudson J C (Bessie Waldo Daniels)  female   \n",
       "\n",
       "     age  sibsp  parch  ticket      fare    cabin embarked boat   body  \\\n",
       "0  29.00      0      0   24160  211.3375       B5        S    2    NaN   \n",
       "1   0.92      1      2  113781  151.5500  C22 C26        S   11    NaN   \n",
       "2   2.00      1      2  113781  151.5500  C22 C26        S  NaN    NaN   \n",
       "3  30.00      1      2  113781  151.5500  C22 C26        S  NaN  135.0   \n",
       "4  25.00      1      2  113781  151.5500  C22 C26        S  NaN    NaN   \n",
       "\n",
       "                         home.dest  \n",
       "0                     St Louis, MO  \n",
       "1  Montreal, PQ / Chesterville, ON  \n",
       "2  Montreal, PQ / Chesterville, ON  \n",
       "3  Montreal, PQ / Chesterville, ON  \n",
       "4  Montreal, PQ / Chesterville, ON  "
      ]
     },
     "execution_count": 33,
     "metadata": {},
     "output_type": "execute_result"
    }
   ],
   "source": [
    "import numpy as np\n",
    "import pandas as pd\n",
    "import matplotlib.pyplot as plt\n",
    "\n",
    "%matplotlib inline\n",
    "#df = pd.read_csv('titanic3.csv')\n",
    "#print(df)\n",
    "titanic_df = pd.read_csv('titanic3.csv',index_col=None, na_values=['NA'])\n",
    "titanic_df.head()"
   ]
  },
  {
   "cell_type": "markdown",
   "metadata": {},
   "source": [
    "### 5. Drop the name column"
   ]
  },
  {
   "cell_type": "code",
   "execution_count": 31,
   "metadata": {},
   "outputs": [
    {
     "data": {
      "text/html": [
       "<div>\n",
       "<style scoped>\n",
       "    .dataframe tbody tr th:only-of-type {\n",
       "        vertical-align: middle;\n",
       "    }\n",
       "\n",
       "    .dataframe tbody tr th {\n",
       "        vertical-align: top;\n",
       "    }\n",
       "\n",
       "    .dataframe thead th {\n",
       "        text-align: right;\n",
       "    }\n",
       "</style>\n",
       "<table border=\"1\" class=\"dataframe\">\n",
       "  <thead>\n",
       "    <tr style=\"text-align: right;\">\n",
       "      <th></th>\n",
       "      <th>pclass</th>\n",
       "      <th>survived</th>\n",
       "      <th>sex</th>\n",
       "      <th>age</th>\n",
       "      <th>sibsp</th>\n",
       "      <th>parch</th>\n",
       "      <th>ticket</th>\n",
       "      <th>fare</th>\n",
       "      <th>cabin</th>\n",
       "      <th>embarked</th>\n",
       "      <th>boat</th>\n",
       "      <th>body</th>\n",
       "      <th>home.dest</th>\n",
       "    </tr>\n",
       "  </thead>\n",
       "  <tbody>\n",
       "    <tr>\n",
       "      <th>0</th>\n",
       "      <td>1</td>\n",
       "      <td>1</td>\n",
       "      <td>female</td>\n",
       "      <td>29.00</td>\n",
       "      <td>0</td>\n",
       "      <td>0</td>\n",
       "      <td>24160</td>\n",
       "      <td>211.3375</td>\n",
       "      <td>B5</td>\n",
       "      <td>S</td>\n",
       "      <td>2</td>\n",
       "      <td>NaN</td>\n",
       "      <td>St Louis, MO</td>\n",
       "    </tr>\n",
       "    <tr>\n",
       "      <th>1</th>\n",
       "      <td>1</td>\n",
       "      <td>1</td>\n",
       "      <td>male</td>\n",
       "      <td>0.92</td>\n",
       "      <td>1</td>\n",
       "      <td>2</td>\n",
       "      <td>113781</td>\n",
       "      <td>151.5500</td>\n",
       "      <td>C22 C26</td>\n",
       "      <td>S</td>\n",
       "      <td>11</td>\n",
       "      <td>NaN</td>\n",
       "      <td>Montreal, PQ / Chesterville, ON</td>\n",
       "    </tr>\n",
       "    <tr>\n",
       "      <th>2</th>\n",
       "      <td>1</td>\n",
       "      <td>0</td>\n",
       "      <td>female</td>\n",
       "      <td>2.00</td>\n",
       "      <td>1</td>\n",
       "      <td>2</td>\n",
       "      <td>113781</td>\n",
       "      <td>151.5500</td>\n",
       "      <td>C22 C26</td>\n",
       "      <td>S</td>\n",
       "      <td>NaN</td>\n",
       "      <td>NaN</td>\n",
       "      <td>Montreal, PQ / Chesterville, ON</td>\n",
       "    </tr>\n",
       "    <tr>\n",
       "      <th>3</th>\n",
       "      <td>1</td>\n",
       "      <td>0</td>\n",
       "      <td>male</td>\n",
       "      <td>30.00</td>\n",
       "      <td>1</td>\n",
       "      <td>2</td>\n",
       "      <td>113781</td>\n",
       "      <td>151.5500</td>\n",
       "      <td>C22 C26</td>\n",
       "      <td>S</td>\n",
       "      <td>NaN</td>\n",
       "      <td>135.0</td>\n",
       "      <td>Montreal, PQ / Chesterville, ON</td>\n",
       "    </tr>\n",
       "    <tr>\n",
       "      <th>4</th>\n",
       "      <td>1</td>\n",
       "      <td>0</td>\n",
       "      <td>female</td>\n",
       "      <td>25.00</td>\n",
       "      <td>1</td>\n",
       "      <td>2</td>\n",
       "      <td>113781</td>\n",
       "      <td>151.5500</td>\n",
       "      <td>C22 C26</td>\n",
       "      <td>S</td>\n",
       "      <td>NaN</td>\n",
       "      <td>NaN</td>\n",
       "      <td>Montreal, PQ / Chesterville, ON</td>\n",
       "    </tr>\n",
       "  </tbody>\n",
       "</table>\n",
       "</div>"
      ],
      "text/plain": [
       "   pclass  survived     sex    age  sibsp  parch  ticket      fare    cabin  \\\n",
       "0       1         1  female  29.00      0      0   24160  211.3375       B5   \n",
       "1       1         1    male   0.92      1      2  113781  151.5500  C22 C26   \n",
       "2       1         0  female   2.00      1      2  113781  151.5500  C22 C26   \n",
       "3       1         0    male  30.00      1      2  113781  151.5500  C22 C26   \n",
       "4       1         0  female  25.00      1      2  113781  151.5500  C22 C26   \n",
       "\n",
       "  embarked boat   body                        home.dest  \n",
       "0        S    2    NaN                     St Louis, MO  \n",
       "1        S   11    NaN  Montreal, PQ / Chesterville, ON  \n",
       "2        S  NaN    NaN  Montreal, PQ / Chesterville, ON  \n",
       "3        S  NaN  135.0  Montreal, PQ / Chesterville, ON  \n",
       "4        S  NaN    NaN  Montreal, PQ / Chesterville, ON  "
      ]
     },
     "execution_count": 31,
     "metadata": {},
     "output_type": "execute_result"
    }
   ],
   "source": [
    "#Write your code here\n",
    "import numpy as np\n",
    "import pandas as pd\n",
    "import matplotlib.pyplot as plt\n",
    "\n",
    "%matplotlib inline\n",
    "titanic_df = pd.read_csv('titanic3.csv',index_col=None, na_values=['NA'])\n",
    "titanic_df.drop(['name'],axis=1).head()\n"
   ]
  },
  {
   "cell_type": "markdown",
   "metadata": {},
   "source": [
    "### 6.What is the relationship between age and fare"
   ]
  },
  {
   "cell_type": "code",
   "execution_count": 3,
   "metadata": {},
   "outputs": [
    {
     "name": "stdout",
     "output_type": "stream",
     "text": [
      "0.17873985599964112\n"
     ]
    }
   ],
   "source": [
    "import numpy as np\n",
    "import pandas as pd\n",
    "titanic_df = pd.read_csv('titanic3.csv',index_col=None, na_values=['NA'])\n",
    "column_1 = titanic_df['age']\n",
    "column_2 = titanic_df['fare']\n",
    "relationship = column_1.corr(column_2)\n",
    "print(relationship)"
   ]
  },
  {
   "cell_type": "markdown",
   "metadata": {},
   "source": [
    "### 7. Calculate the probability of survival"
   ]
  },
  {
   "cell_type": "code",
   "execution_count": 2,
   "metadata": {},
   "outputs": [
    {
     "name": "stdout",
     "output_type": "stream",
     "text": [
      "female    0.727468\n",
      "male      0.190985\n",
      "dtype: float64\n"
     ]
    }
   ],
   "source": [
    "import numpy as np\n",
    "import pandas as pd\n",
    "titanic_df = pd.read_csv('titanic3.csv',index_col=None, na_values=['NA'])\n",
    "male_female_survival = titanic_df.groupby('sex').sum()['survived']\n",
    "total_male_female = titanic_df['sex'].value_counts()\n",
    "\n",
    "#probability of survival for male passengers and for female passengers.\n",
    "male_female_percentages = male_female_survival/total_male_female\n",
    "print (male_female_percentages)\n"
   ]
  }
 ],
 "metadata": {
  "kernelspec": {
   "display_name": "Python 3",
   "language": "python",
   "name": "python3"
  },
  "language_info": {
   "codemirror_mode": {
    "name": "ipython",
    "version": 3
   },
   "file_extension": ".py",
   "mimetype": "text/x-python",
   "name": "python",
   "nbconvert_exporter": "python",
   "pygments_lexer": "ipython3",
   "version": "3.8.3"
  }
 },
 "nbformat": 4,
 "nbformat_minor": 4
}
